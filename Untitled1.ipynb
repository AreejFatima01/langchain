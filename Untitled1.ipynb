{
  "nbformat": 4,
  "nbformat_minor": 0,
  "metadata": {
    "colab": {
      "provenance": [],
      "authorship_tag": "ABX9TyOvgSbFJOiaeJeFiy9Du4LT",
      "include_colab_link": true
    },
    "kernelspec": {
      "name": "python3",
      "display_name": "Python 3"
    },
    "language_info": {
      "name": "python"
    }
  },
  "cells": [
    {
      "cell_type": "markdown",
      "metadata": {
        "id": "view-in-github",
        "colab_type": "text"
      },
      "source": [
        "<a href=\"https://colab.research.google.com/github/AreejFatima01/langchain/blob/main/Untitled1.ipynb\" target=\"_parent\"><img src=\"https://colab.research.google.com/assets/colab-badge.svg\" alt=\"Open In Colab\"/></a>"
      ]
    },
    {
      "cell_type": "code",
      "execution_count": null,
      "metadata": {
        "id": "n1MGMERIJxsV"
      },
      "outputs": [],
      "source": [
        "from langchain.llms import GoogleGenerativeAI\n",
        "from langchain.llms.prompts import TextPrompt, ChainPrompt\n",
        "from langchain.agents import ChainTransformerAgent\n",
        "# Replace with your Google AI Platform project ID and model name\n",
        "project_id = \"your-project-id\"\n",
        "model_name = \"your-gemini-model-name\"\n",
        "\n",
        "agent = ChainTransformerAgent(\n",
        "    llm=GoogleGenerativeAI(project_id, model_name),\n",
        "    # Optional: Set conversation memory for context across interactions\n",
        "    memory=None\n",
        ")\n",
        "text = \"This is a long text that needs to be summarized.\"\n",
        "prompt = TextPrompt(text=f\"Summarize the following text: {text}\")\n",
        "text = \"This is a text in English.\"\n",
        "target_language = \"es\"  # Spanish\n",
        "prompt = TextPrompt(text=f\"Translate the following text to {target_language}: {text}\")\n",
        "text = \"This is a text with factual information.\"\n",
        "question = \"Who is the main character?\"\n",
        "prompt = ChainPrompt(\n",
        "    prefix=TextPrompt(text=text),\n",
        "    suffix=TextPrompt(text=f\"Answer the question: {question}\")\n",
        ")\n",
        "for prompt in [prompt1, prompt2, prompt3]:\n",
        "    response = agent.run(prompt)\n",
        "    print(f\"Prompt: {prompt.text}\")\n",
        "    print(f\"Response: {response.text}\")\n"
      ]
    }
  ]
}